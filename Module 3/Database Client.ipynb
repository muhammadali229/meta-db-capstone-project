{
 "cells": [
  {
   "cell_type": "markdown",
   "id": "c340b6d8",
   "metadata": {},
   "source": [
    "## Task 1\n",
    "Your first task is to navigate to your terminal and ensure that Python is installed and available on the command path. To complete this task, type the following syntax:"
   ]
  },
  {
   "cell_type": "code",
   "execution_count": 2,
   "id": "cf43cf67",
   "metadata": {},
   "outputs": [
    {
     "name": "stdout",
     "output_type": "stream",
     "text": [
      "Python 3.7.9\n"
     ]
    }
   ],
   "source": [
    "!python --version"
   ]
  },
  {
   "cell_type": "markdown",
   "id": "43c9615c",
   "metadata": {},
   "source": [
    "## Task 2\n",
    "Having established that an up-to date version of python is installed on your machine you will need to install Jupyter. You can install Jupyter using the following code: "
   ]
  },
  {
   "cell_type": "code",
   "execution_count": 3,
   "id": "8d72e87c",
   "metadata": {},
   "outputs": [],
   "source": [
    "# !python -m pip install jupyter"
   ]
  },
  {
   "cell_type": "markdown",
   "id": "2ab6e1a9",
   "metadata": {},
   "source": [
    "## Task 3\n",
    "Your third and final task is to establish a connection between Python and your database using the following steps:"
   ]
  },
  {
   "cell_type": "code",
   "execution_count": 4,
   "id": "0405ac45",
   "metadata": {},
   "outputs": [],
   "source": [
    "# !pip install mysql-connector-python"
   ]
  },
  {
   "cell_type": "code",
   "execution_count": 5,
   "id": "d39c0136",
   "metadata": {},
   "outputs": [],
   "source": [
    "import mysql.connector as connector"
   ]
  },
  {
   "cell_type": "code",
   "execution_count": 12,
   "id": "db0deded",
   "metadata": {},
   "outputs": [
    {
     "name": "stdout",
     "output_type": "stream",
     "text": [
      "Successfully Connected to MYSQL Server\n"
     ]
    }
   ],
   "source": [
    "try:\n",
    "    connector.connect(\n",
    "        user='root',\n",
    "        password='admin123'  \n",
    "    )\n",
    "    print('Successfully Connected to MYSQL Server')\n",
    "except:\n",
    "    print('There was a problem connecting to the MYSQL server\\nPlease check the username or password.')"
   ]
  },
  {
   "cell_type": "markdown",
   "id": "a116e45d",
   "metadata": {},
   "source": [
    "## Task One\n",
    "In the previous exercise you created a Python environment. In the first task of this exercise, you are tasked with extending the environment to connect with your database and interact with the data it holds. \n",
    "\n",
    "Your first step is to import the connector module, enter your user details and connect with the database (Hint: you can use an alias when importing the module).\n",
    "\n",
    "This gives you access to all the functionality available from the connector API, which can be accessed through the variable named connector (or whichever alias you choose). \n",
    "\n",
    "To connect with your database, you can call the connect method of the connector class and pass in your details using the following code: "
   ]
  },
  {
   "cell_type": "code",
   "execution_count": 29,
   "id": "b7f186fc",
   "metadata": {},
   "outputs": [
    {
     "name": "stdout",
     "output_type": "stream",
     "text": [
      "Successfully Connected to MYSQL Server\n"
     ]
    }
   ],
   "source": [
    "try:\n",
    "    connection = connector.connect(\n",
    "        user='root',\n",
    "        password='admin123',\n",
    "        database='littlelemondb'\n",
    "    )\n",
    "    print('Successfully Connected to MYSQL Server')\n",
    "except:\n",
    "    print('There was a problem connecting to the MYSQL server\\nPlease check the username or password.')"
   ]
  },
  {
   "cell_type": "code",
   "execution_count": 31,
   "id": "4da4526d",
   "metadata": {},
   "outputs": [
    {
     "data": {
      "text/plain": [
       "'littlelemondb'"
      ]
     },
     "execution_count": 31,
     "metadata": {},
     "output_type": "execute_result"
    }
   ],
   "source": [
    "# Create cursor object to communicate with entire MySQL database\n",
    "cursor = connection.cursor(buffered=True)\n",
    "# Set little_lemon database for use \n",
    "cursor.execute(\"use littlelemondb\")\n",
    "\n",
    "# Confirm the database in use\n",
    "connection.database"
   ]
  },
  {
   "cell_type": "markdown",
   "id": "0034004e",
   "metadata": {},
   "source": [
    "## Task two\n",
    "In this second task, you now need to query the database to show all tables within the database. \n",
    "\n",
    "Having established a connection in the first task, you need to execute a test query to ensure that there are no issues. You can do this by executing, or passing, a generic query that returns a snapshot of the database tables. \n",
    "\n",
    "You need to execute the query on the cursor using the code that follows. The cursor, as you should recall, is the bridge through which you can pass queries and return results. "
   ]
  },
  {
   "cell_type": "code",
   "execution_count": 32,
   "id": "bc52fa1b",
   "metadata": {},
   "outputs": [
    {
     "name": "stdout",
     "output_type": "stream",
     "text": [
      "('bookings',)\n",
      "('customers',)\n",
      "('menuitem',)\n",
      "('menus',)\n",
      "('orderdelivery',)\n",
      "('orders',)\n",
      "('ordersview',)\n",
      "('staff',)\n"
     ]
    }
   ],
   "source": [
    "cursor.execute(\"show tables;\")\n",
    "\n",
    "for table_name in cursor:\n",
    "    print(table_name)"
   ]
  },
  {
   "cell_type": "markdown",
   "id": "383eedf2",
   "metadata": {},
   "source": [
    "## Task 3\n",
    "Query with table JOIN\n",
    "\n",
    "For the third and final task, Little Lemon need you to return specific details from your database. They require the full name and contact details for every customer that has placed an order greater than $60 for a promotional campaign. \n",
    "\n",
    "You can use the following steps to implement this functionality in your database directory:"
   ]
  },
  {
   "cell_type": "code",
   "execution_count": 33,
   "id": "3db2f392",
   "metadata": {},
   "outputs": [
    {
     "name": "stdout",
     "output_type": "stream",
     "text": [
      "('Customer_Name', 'Email')\n"
     ]
    }
   ],
   "source": [
    "# The SQL query is:\n",
    "join_query=\"\"\"\n",
    "SELECT \n",
    "\tc.name Customer_Name,\n",
    "    c.email Email\n",
    "FROM \n",
    "\torders o \n",
    "INNER JOIN bookings b \n",
    "ON\n",
    "\to.bookingid = b.bookingid \n",
    "INNER JOIN customers c \n",
    "ON \n",
    "\tc.customerid = b.customerid\n",
    "WHERE \n",
    "\tTotalCost > 60;\n",
    "\"\"\"\n",
    "\n",
    "# Execute query\n",
    "cursor.execute(join_query)\n",
    "\n",
    "# Fetch records \n",
    "results = cursor.fetchall()\n",
    "\n",
    "# Retrieve column names\n",
    "columns = cursor.column_names\n",
    "\n",
    "# Print column names\n",
    "print(columns)\n",
    "\n",
    "# Print query results\n",
    "for result in results:\n",
    "    print(result)   "
   ]
  }
 ],
 "metadata": {
  "kernelspec": {
   "display_name": "Python 3 (ipykernel)",
   "language": "python",
   "name": "python3"
  },
  "language_info": {
   "codemirror_mode": {
    "name": "ipython",
    "version": 3
   },
   "file_extension": ".py",
   "mimetype": "text/x-python",
   "name": "python",
   "nbconvert_exporter": "python",
   "pygments_lexer": "ipython3",
   "version": "3.7.9"
  }
 },
 "nbformat": 4,
 "nbformat_minor": 5
}
